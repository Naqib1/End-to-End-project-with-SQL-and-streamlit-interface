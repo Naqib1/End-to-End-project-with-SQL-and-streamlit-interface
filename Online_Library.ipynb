{
 "cells": [
  {
   "cell_type": "code",
   "execution_count": 1,
   "metadata": {},
   "outputs": [],
   "source": [
    "#import sqlite module  \n",
    "import sqlite3 "
   ]
  },
  {
   "cell_type": "code",
   "execution_count": 2,
   "metadata": {},
   "outputs": [],
   "source": [
    "# connect to an exists database or create a new one \n",
    "db = sqlite3.connect('Online_Library.db') "
   ]
  },
  {
   "cell_type": "code",
   "execution_count": 3,
   "metadata": {},
   "outputs": [
    {
     "data": {
      "text/plain": [
       "<sqlite3.Connection at 0x1889a54d300>"
      ]
     },
     "execution_count": 3,
     "metadata": {},
     "output_type": "execute_result"
    }
   ],
   "source": [
    "db"
   ]
  },
  {
   "cell_type": "code",
   "execution_count": 4,
   "metadata": {},
   "outputs": [],
   "source": [
    "# setting up a cursor  to be used to conduct the operations over the DB \n",
    "crsr = db.cursor()"
   ]
  },
  {
   "cell_type": "code",
   "execution_count": 5,
   "metadata": {},
   "outputs": [
    {
     "data": {
      "text/plain": [
       "<sqlite3.Cursor at 0x1889a751740>"
      ]
     },
     "execution_count": 5,
     "metadata": {},
     "output_type": "execute_result"
    }
   ],
   "source": [
    "# Create the table, using execute SQL command \n",
    "crsr.execute(\"CREATE TABLE  if not exists  wishlist(wish_id integer PRIMARY KEY, book_id integer,foreign key(book_id) references Books(book_id))\") "
   ]
  },
  {
   "cell_type": "code",
   "execution_count": 6,
   "metadata": {},
   "outputs": [
    {
     "data": {
      "text/plain": [
       "<sqlite3.Cursor at 0x1889a751740>"
      ]
     },
     "execution_count": 6,
     "metadata": {},
     "output_type": "execute_result"
    }
   ],
   "source": [
    "crsr.execute(\"CREATE TABLE if not exists  Book_Mangement (operation_id integer , book_id integer,foreign key(book_id) references Books(book_id), foreign key(operation_id) references Operations(operation_id))\") "
   ]
  },
  {
   "cell_type": "code",
   "execution_count": 7,
   "metadata": {},
   "outputs": [
    {
     "data": {
      "text/plain": [
       "<sqlite3.Cursor at 0x1889a751740>"
      ]
     },
     "execution_count": 7,
     "metadata": {},
     "output_type": "execute_result"
    }
   ],
   "source": [
    "crsr.execute(\"CREATE TABLE  if not exists  User_Mangement (operation_id integer , user_id integer,foreign key(operation_id) references Operations(operation_id),foreign key(user_id) references Users(user_id))\") "
   ]
  },
  {
   "cell_type": "code",
   "execution_count": 8,
   "metadata": {},
   "outputs": [
    {
     "data": {
      "text/plain": [
       "<sqlite3.Cursor at 0x1889a751740>"
      ]
     },
     "execution_count": 8,
     "metadata": {},
     "output_type": "execute_result"
    }
   ],
   "source": [
    "crsr.execute(\"CREATE TABLE if not exists Books(book_id integer primary key ,book_name text,publication_date Date,Availability_Status text,category_id integer )\")\n"
   ]
  },
  {
   "cell_type": "code",
   "execution_count": 9,
   "metadata": {},
   "outputs": [
    {
     "data": {
      "text/plain": [
       "<sqlite3.Cursor at 0x1889a751740>"
      ]
     },
     "execution_count": 9,
     "metadata": {},
     "output_type": "execute_result"
    }
   ],
   "source": [
    "\n",
    "crsr.execute(\"CREATE TABLE if not exists Authors(author_id integer primary key,author_name text ,book_id integer , contactInformation text ,country text, gender text, foreign key (book_id) references Books)\")"
   ]
  },
  {
   "cell_type": "code",
   "execution_count": 10,
   "metadata": {},
   "outputs": [
    {
     "data": {
      "text/plain": [
       "<sqlite3.Cursor at 0x1889a751740>"
      ]
     },
     "execution_count": 10,
     "metadata": {},
     "output_type": "execute_result"
    }
   ],
   "source": [
    "crsr.execute(\"CREATE TABLE if not exists Categories(category_id integer primary key,category_name text,Description text,book_id integer, FOREIGN KEY (book_id) REFERENCES Books(book_id) )\")"
   ]
  },
  {
   "cell_type": "code",
   "execution_count": 11,
   "metadata": {},
   "outputs": [
    {
     "data": {
      "text/plain": [
       "<sqlite3.Cursor at 0x1889a751740>"
      ]
     },
     "execution_count": 11,
     "metadata": {},
     "output_type": "execute_result"
    }
   ],
   "source": [
    "crsr.execute(\"CREATE TABLE if not exists Operations (operation_id integer primary key, operation_name text,startDate date ,endDate date)\")"
   ]
  },
  {
   "cell_type": "code",
   "execution_count": 14,
   "metadata": {},
   "outputs": [
    {
     "data": {
      "text/plain": [
       "<sqlite3.Cursor at 0x1889a751740>"
      ]
     },
     "execution_count": 14,
     "metadata": {},
     "output_type": "execute_result"
    }
   ],
   "source": [
    "crsr.execute(\"\"\"\n",
    "CREATE TABLE IF NOT EXISTS Reviews (\n",
    "    review_id INTEGER PRIMARY KEY,\n",
    "    rating INTEGER,\n",
    "    comment TEXT,\n",
    "    reviewDate DATE,\n",
    "    user_id INTEGER,\n",
    "    book_id INTEGER,\n",
    "    FOREIGN KEY (user_id) REFERENCES Users(user_id),\n",
    "    FOREIGN KEY (book_id) REFERENCES Books(book_id)\n",
    ")\n",
    "\"\"\")\n"
   ]
  },
  {
   "cell_type": "code",
   "execution_count": 15,
   "metadata": {},
   "outputs": [
    {
     "data": {
      "text/plain": [
       "<sqlite3.Cursor at 0x1889a751740>"
      ]
     },
     "execution_count": 15,
     "metadata": {},
     "output_type": "execute_result"
    }
   ],
   "source": [
    "crsr.execute(\"CREATE TABLE if not exists Users(user_id integer primary key,firstName text,lastName text,address text,user_email email,phoneNumber text,gender text,permition text, password text)\")"
   ]
  },
  {
   "cell_type": "code",
   "execution_count": 16,
   "metadata": {},
   "outputs": [],
   "source": [
    "fake_users = [\n",
    "    (2, \"Sara\", \"Omar\", \"sara.omar@example.com\", \"0100000002\", \"Female\", \"User\", \"15 Nile St, Cairo\", \"Pass@1234\"),     \n",
    "    (3, \"Khaled\", \"Hassan\", \"khaled.hassan@example.com\", \"0100000003\", \"Male\", \"User\", \"22 October Ave, Alexandria\", \"Secure@789\"),     \n",
    "    (4, \"Mona\", \"Samir\", \"mona.samir@example.com\", \"0100000004\", \"Female\", \"User\", \"5 Tahrir Square, Giza\", \"Mona#2024\"),     \n",
    "    (5, \"Youssef\", \"Nabil\", \"youssef.nabil@example.com\", \"0100000005\", \"Male\", \"Admin\", \"30 Corniche Rd, Luxor\", \"Admin@5678\"),     \n",
    "    (6, \"Layla\", \"Hani\", \"layla.hani@example.com\", \"0100000006\", \"Female\", \"User\", \"10 Ramses St, Cairo\", \"Layla*pass\"),     \n",
    "    (7, \"Omar\", \"Fathi\", \"omar.fathi@example.com\", \"0100000007\", \"Male\", \"User\", \"7 Sphinx Ave, Giza\", \"Omar#456\"),     \n",
    "    (8, \"Nour\", \"Ali\", \"nour.ali@example.com\", \"0100000008\", \"Female\", \"User\", \"14 Green Zone, Mansoura\", \"Nour@pass1\"),     \n",
    "    (9, \"Hassan\", \"Mahmoud\", \"hassan.mahmoud@example.com\", \"0100000009\", \"Male\", \"Admin\", \"25 Freedom Rd, Aswan\", \"Has@9876\"),     \n",
    "    (10, \"Dina\", \"Ibrahim\", \"dina.ibrahim@example.com\", \"0100000010\", \"Female\", \"User\", \"33 Al-Azhar St, Cairo\", \"Dina#pass99\"),     \n",
    "    (11, \"Mostafa\", \"Yasser\", \"mostafa.yasser@example.com\", \"0100000011\", \"Male\", \"User\", \"12 Lotus St, Sharm El-Sheikh\", \"Mostafa!321\"),     \n",
    "    (12, \"Rania\", \"Salem\", \"rania.salem@example.com\", \"0100000012\", \"Female\", \"Admin\", \"50 Palm Ave, Hurghada\", \"AdminRania@\"),     \n",
    "    (13, \"Ahmed\", \"Kamel\", \"ahmed.kamel@example.com\", \"0100000013\", \"Male\", \"User\", \"18 Market St, Ismailia\", \"Ahmed123\"),     \n",
    "    (14, \"Fatma\", \"Zaki\", \"fatma.zaki@example.com\", \"0100000014\", \"Female\", \"User\", \"42 Suez Rd, Suez\", \"Fatma@567\"),     \n",
    "    (15, \"Ibrahim\", \"Hassan\", \"ibrahim.hassan@example.com\", \"0100000015\", \"Male\", \"Admin\", \"9 Mahatta St, Port Said\", \"Ibrahim@admin\"),     \n",
    "    (16, \"Mariam\", \"Adel\", \"mariam.adel@example.com\", \"0100000016\", \"Female\", \"User\", \"28 Alexandria Rd, Sohag\", \"Mari#123\"),     \n",
    "    (17, \"Tamer\", \"Osman\", \"tamer.osman@example.com\", \"0100000017\", \"Male\", \"User\", \"16 Downtown St, Minya\", \"Tamer@pass\"),     \n",
    "    (18, \"Huda\", \"Samir\", \"huda.samir@example.com\", \"0100000018\", \"Female\", \"User\", \"11 Red Sea Rd, Marsa Alam\", \"HudaPass!\"),     \n",
    "    (19, \"Mohamed\", \"Fouad\", \"mohamed.fouad@example.com\", \"0100000019\", \"Male\", \"Admin\", \"20 Sunflower St, Tanta\", \"Mo@Admin1\"),     \n",
    "    (20, \"Reem\", \"Gamal\", \"reem.gamal@example.com\", \"0100000020\", \"Female\", \"User\", \"35 Victory Ave, Damietta\", \"Reem*pass\"),     \n",
    "    (21, \"Sami\", \"Tarek\", \"sami.tarek@example.com\", \"0100000021\", \"Male\", \"User\", \"8 Nile Corniche, Beni Suef\", \"Sami@2025\"),     \n",
    "    (22, \"Rasha\", \"Nour\", \"rasha.nour@example.com\", \"0100000022\", \"Female\", \"Admin\", \"6 Helwan St, Helwan\", \"RashaAdmin#\"),     \n",
    "    (23, \"Wael\", \"Shaker\", \"wael.shaker@example.com\", \"0100000023\", \"Male\", \"User\", \"29 October St, Asyut\", \"Wael@pass\"),     \n",
    "    (24, \"Lina\", \"Mostafa\", \"lina.mostafa@example.com\", \"0100000024\", \"Female\", \"User\", \"17 University Ave, Fayoum\", \"Lina$pass\"),     \n",
    "    (25, \"Adham\", \"Sayed\", \"adham.sayed@example.com\", \"0100000025\", \"Male\", \"Admin\", \"4 Pyramids Rd, Giza\", \"Adham@admin\"),     \n",
    "    (26, \"Maha\", \"Sherif\", \"maha.sherif@example.com\", \"0100000026\", \"Female\", \"User\", \"23 El-Mahkama St, Cairo\", \"Maha123!\"),     \n",
    "    (27, \"Yassin\", \"Amr\", \"yassin.amr@example.com\", \"0100000027\", \"Male\", \"User\", \"45 Shubra St, Shubra\", \"Yassin@pass\"),     \n",
    "    (28, \"Heba\", \"Fathy\", \"heba.fathy@example.com\", \"0100000028\", \"Female\", \"Admin\", \"13 Al-Haram St, Giza\", \"Heba@admin99\"),     \n",
    "    (29, \"Ramy\", \"Gaber\", \"ramy.gaber@example.com\", \"0100000029\", \"Male\", \"User\", \"31 Metro St, Maadi\", \"Ramy*321\"),     \n",
    "    (30, \"Sally\", \"Mounir\", \"sally.mounir@example.com\", \"0100000030\", \"Female\", \"User\", \"27 Mansouriya Rd, Giza\", \"Sally@567\"),     \n",
    "    (31, \"Amr\", \"Hisham\", \"amr.hisham@example.com\", \"0100000031\", \"Male\", \"Admin\", \"21 Sporting St, Alexandria\", \"Amr#admin\"),     \n",
    "    (32, \"Yara\", \"Hassan\", \"yara.hassan@example.com\", \"0100000032\", \"Female\", \"User\", \"3 Cleopatra St, Alexandria\", \"Yara$pass\"),     \n",
    "    (33, \"Tariq\", \"Nabil\", \"tariq.nabil@example.com\", \"0100000033\", \"Male\", \"User\", \"44 Green Ave, Mansoura\", \"Tariq@pass\"),     \n",
    "    (34, \"Lamis\", \"Osama\", \"lamis.osama@example.com\", \"0100000034\", \"Female\", \"Admin\", \"36 Fishermen Rd, Suez\", \"Lamis@admin\"),     \n",
    "    (35, \"Hisham\", \"Tamer\", \"hisham.tamer@example.com\", \"0100000035\", \"Male\", \"User\", \"38 Olive St, Ismailia\", \"Hisham@1234\"),     \n",
    "    (36, \"Farida\", \"Adel\", \"farida.adel@example.com\", \"0100000036\", \"Female\", \"User\", \"14 Lotus Rd, Hurghada\", \"Farida#2025\"),     \n",
    "    (37, \"Ziad\", \"Amin\", \"ziad.amin@example.com\", \"0100000037\", \"Male\", \"Admin\", \"9 Airport Rd, Sharm El-Sheikh\", \"Ziad@admin\"),     \n",
    "    (38, \"Dalia\", \"Mostafa\", \"dalia.mostafa@example.com\", \"0100000038\", \"Female\", \"User\", \"47 University Rd, Tanta\", \"Dalia@pass\"),     \n",
    "    (39, \"Bassem\", \"Fouad\", \"bassem.fouad@example.com\", \"0100000039\", \"Male\", \"User\", \"41 Opera Square, Cairo\", \"Bassem#pass\"),     \n",
    "    (40, \"Hala\", \"Gamal\", \"hala.gamal@example.com\", \"0100000040\", \"Female\", \"Admin\", \"24 Palm St, Aswan\", \"Hala@admin\"),\n",
    "    (41, \"Sherif\", \"Osman\", \"sherif.osman@example.com\", \"0100000041\", \"Male\", \"User\", \"2 Lighthouse Rd, Alexandria\", \"Sherif@1234\"),\n",
    "    (42, \"Noha\", \"Waleed\", \"noha.waleed@example.com\", \"0100000042\", \"Female\", \"User\", \"48 Business Bay, New Cairo\", \"Noha#2025\"),\n",
    "    (43, \"Bassant\", \"Nour\", \"bassant.nour@example.com\", \"0100000043\", \"Female\", \"User\", \"32 Marina St, El-Gouna\", \"Bassant@pass\"),\n",
    "    (44, \"Othman\", \"Karim\", \"othman.karim@example.com\", \"0100000044\", \"Male\", \"User\", \"19 Revolution Rd, Port Said\", \"Othman@567\"),\n",
    "    (45, \"Shady\", \"Sameh\", \"shady.sameh@example.com\", \"0100000045\", \"Male\", \"Admin\", \"26 Station St, Sohag\", \"Shady@admin\"),\n",
    "]\n",
    "\n"
   ]
  },
  {
   "cell_type": "code",
   "execution_count": 17,
   "metadata": {},
   "outputs": [
    {
     "data": {
      "text/plain": [
       "<sqlite3.Cursor at 0x1889a751740>"
      ]
     },
     "execution_count": 17,
     "metadata": {},
     "output_type": "execute_result"
    }
   ],
   "source": [
    "crsr.executemany(\"\"\"\n",
    "    INSERT INTO Users (user_id, firstName, lastName, user_email, phoneNumber, gender, permition , address, password) \n",
    "    VALUES (?, ?, ?, ?, ?, ?, ?,?,?)\n",
    "\"\"\", fake_users)  \n"
   ]
  },
  {
   "cell_type": "code",
   "execution_count": 18,
   "metadata": {},
   "outputs": [
    {
     "data": {
      "text/plain": [
       "<sqlite3.Cursor at 0x1889a751740>"
      ]
     },
     "execution_count": 18,
     "metadata": {},
     "output_type": "execute_result"
    }
   ],
   "source": [
    "fake_categories = [\n",
    "    (1, \"Fiction\", \"Stories that contain imaginary elements\", 1),  \n",
    "    (2, \"Science Fiction\", \"Books with futuristic and scientific concepts\", 3),\n",
    "    (3, \"Classic\", \"Timeless literary masterpieces\", 5),\n",
    "    (4, \"Mystery\", \"Suspenseful stories with intriguing plots\", 7),\n",
    "    (5, \"Fantasy\", \"Books with magical or supernatural elements\", 10),\n",
    "    (6, \"Philosophy\", \"Books that explore fundamental questions of life\", 12),\n",
    "    (7, \"Horror\", \"Books designed to scare and thrill readers\", 15),\n",
    "    (8, \"Historical\", \"Stories set in real historical contexts\", 18),\n",
    "    (9, \"Adventure\", \"Books about thrilling and exciting journeys\", 20),\n",
    "    (10, \"Poetry\", \"Collections of poems with deep meanings\", 14)\n",
    "]\n",
    "crsr.executemany(\"\"\"\n",
    "    INSERT INTO Categories (category_id, category_name, Description, book_id)\n",
    "    VALUES (?, ?, ?, ?)\n",
    "\"\"\", fake_categories)"
   ]
  },
  {
   "cell_type": "code",
   "execution_count": 20,
   "metadata": {},
   "outputs": [
    {
     "data": {
      "text/plain": [
       "<sqlite3.Cursor at 0x1889a751740>"
      ]
     },
     "execution_count": 20,
     "metadata": {},
     "output_type": "execute_result"
    }
   ],
   "source": [
    "fake_books = [\n",
    "    (1, \"The Great Gatsby\", \"1925-04-10\", \"Available\", 3),  # Classic\n",
    "    (2, \"To Kill a Mockingbird\", \"1960-07-11\", \"Checked Out\", 1),  # Fiction\n",
    "    (3, \"1984\", \"1949-06-08\", \"Available\", 2),  # Science Fiction\n",
    "    (4, \"Pride and Prejudice\", \"1813-01-28\", \"Available\", 3),  # Classic\n",
    "    (5, \"Moby-Dick\", \"1851-10-18\", \"Checked Out\", 9),  # Adventure\n",
    "    (6, \"War and Peace\", \"1869-01-01\", \"Available\", 8),  # Historical\n",
    "    (7, \"The Catcher in the Rye\", \"1951-07-16\", \"Checked Out\", 1),  # Fiction\n",
    "    (8, \"Brave New World\", \"1932-08-18\", \"Available\", 2),  # Science Fiction\n",
    "    (9, \"The Hobbit\", \"1937-09-21\", \"Available\", 5),  # Fantasy\n",
    "    (10, \"Fahrenheit 451\", \"1953-10-19\", \"Checked Out\", 2),  # Science Fiction\n",
    "    (11, \"Crime and Punishment\", \"1866-01-01\", \"Available\", 3),  # Classic\n",
    "    (12, \"The Odyssey\", \"800 BC\", \"Available\", 9),  # Adventure\n",
    "    (13, \"Jane Eyre\", \"1847-10-16\", \"Checked Out\", 3),  # Classic\n",
    "    (14, \"Wuthering Heights\", \"1847-12-01\", \"Available\", 3),  # Classic\n",
    "    (15, \"Dracula\", \"1897-05-26\", \"Checked Out\", 7),  # Horror\n",
    "    (16, \"The Picture of Dorian Gray\", \"1890-07-01\", \"Available\", 7),  # Horror\n",
    "    (17, \"Les Misérables\", \"1862-01-01\", \"Available\", 8),  # Historical\n",
    "    (18, \"The Alchemist\", \"1988-01-01\", \"Checked Out\", 6),  # Philosophy\n",
    "    (19, \"Don Quixote\", \"1605-01-01\", \"Available\", 9),  # Adventure\n",
    "    (20, \"The Brothers Karamazov\", \"1880-01-01\", \"Checked Out\", 6)  # Philosophy\n",
    "]\n",
    "crsr.executemany(\"\"\"\n",
    "    INSERT INTO Books (book_id, book_name, publication_date, Availability_Status, category_id)\n",
    "    VALUES (?, ?, ?, ?, ?)\n",
    "\"\"\", fake_books)\n"
   ]
  },
  {
   "cell_type": "code",
   "execution_count": 21,
   "metadata": {},
   "outputs": [
    {
     "data": {
      "text/plain": [
       "<sqlite3.Cursor at 0x1889a751740>"
      ]
     },
     "execution_count": 21,
     "metadata": {},
     "output_type": "execute_result"
    }
   ],
   "source": [
    "fake_authors = [\n",
    "    (1, \"Ahmed Ali\", \"ahmed.ali@example.com\", \"Egypt\", \"Male\", 1),\n",
    "    (2, \"Sara Omar\", \"sara.omar@example.com\", \"Lebanon\", \"Female\", 2),\n",
    "    (3, \"Khaled Hassan\", \"khaled.hassan@example.com\", \"Saudi Arabia\", \"Male\", 3),\n",
    "    (4, \"Mona Samir\", \"mona.samir@example.com\", \"UAE\", \"Female\", 4),\n",
    "    (5, \"Youssef Nabil\", \"youssef.nabil@example.com\", \"Jordan\", \"Male\", 5),\n",
    "    (6, \"Layla Hani\", \"layla.hani@example.com\", \"Morocco\", \"Female\", 6),\n",
    "    (7, \"Omar Fathi\", \"omar.fathi@example.com\", \"Tunisia\", \"Male\", 7),\n",
    "    (8, \"Nour Ali\", \"nour.ali@example.com\", \"Algeria\", \"Female\", 8),\n",
    "    (9, \"Hassan Mahmoud\", \"hassan.mahmoud@example.com\", \"Syria\", \"Male\", 9),\n",
    "    (10, \"Dina Ibrahim\", \"dina.ibrahim@example.com\", \"Iraq\", \"Female\", 10),\n",
    "    (11, \"Mostafa Yasser\", \"mostafa.yasser@example.com\", \"Egypt\", \"Male\", 11),\n",
    "    (12, \"Rania Salem\", \"rania.salem@example.com\", \"Palestine\", \"Female\", 12),\n",
    "    (13, \"Ahmed Kamel\", \"ahmed.kamel@example.com\", \"Bahrain\", \"Male\", 13),\n",
    "    (14, \"Fatma Zaki\", \"fatma.zaki@example.com\", \"Kuwait\", \"Female\", 14),\n",
    "    (15, \"Ibrahim Hassan\", \"ibrahim.hassan@example.com\", \"Oman\", \"Male\", 15)\n",
    "]\n",
    "crsr.executemany(\"\"\"\n",
    "    INSERT INTO Authors (author_id , author_Name, contactInformation, country, gender, book_id)\n",
    "    VALUES (?, ?, ?, ?, ?, ?)\n",
    "\"\"\", fake_authors)"
   ]
  },
  {
   "cell_type": "code",
   "execution_count": 22,
   "metadata": {},
   "outputs": [
    {
     "data": {
      "text/plain": [
       "<sqlite3.Cursor at 0x1889a751740>"
      ]
     },
     "execution_count": 22,
     "metadata": {},
     "output_type": "execute_result"
    }
   ],
   "source": [
    "fake_operations = [\n",
    "    (1, \"Buying\", \"2024-01-10\",\"\"),\n",
    "    (2, \"Borrowing\", \"2024-02-05\", \"2024-02-10\"),\n",
    "    (3, \"Donation\", \"2024-03-12\",\"\"),\n",
    "    (4,\"Restoring\",\"2024-01-10\",\"\")]\n",
    "\n",
    "crsr.executemany(\"\"\"\n",
    "    INSERT INTO Operations (operation_id , operation_Name, startDate,endDate)\n",
    "    VALUES (?, ?, ?,?)\n",
    "\"\"\", fake_operations)\n"
   ]
  },
  {
   "cell_type": "code",
   "execution_count": 25,
   "metadata": {},
   "outputs": [
    {
     "data": {
      "text/plain": [
       "<sqlite3.Cursor at 0x1889a751740>"
      ]
     },
     "execution_count": 25,
     "metadata": {},
     "output_type": "execute_result"
    }
   ],
   "source": [
    "fake_reviews = [\n",
    "    (1, 5, \"Excellent book! Highly recommended.\", \"2024-01-10\", 2,7),\n",
    "    (2, 4, \"Very informative, but a bit lengthy.\", \"2024-01-15\", 5,9),\n",
    "    (3, 3, \"Decent read, but not my favorite.\", \"2024-02-05\", 8,4),\n",
    "    (4, 5, \"A must-read for book lovers!\", \"2024-02-12\", 12,20),\n",
    "    (5, 2, \"Didn't meet my expectations.\", \"2024-03-01\", 15,1),\n",
    "    (6, 4, \"Great story, well-written.\", \"2024-03-10\", 18,5),\n",
    "    (7, 5, \"One of the best books I've read!\", \"2024-04-05\", 22,12),\n",
    "    (8, 3, \"Average, but had some good parts.\", \"2024-04-15\", 25,13),\n",
    "    (9, 1, \"Really disappointed, wouldn't recommend.\", \"2024-05-01\", 28,17),\n",
    "    (10, 5, \"Absolutely loved it!\", \"2024-05-30\",40,19)\n",
    "]\n",
    "crsr.executemany(\"\"\"\n",
    "    INSERT INTO Reviews (review_id, rating, comment, reviewDate, user_id, book_id)\n",
    "    VALUES (?, ?, ?, ?, ?, ?)\n",
    "\"\"\", fake_reviews)\n",
    "\n"
   ]
  },
  {
   "cell_type": "code",
   "execution_count": 26,
   "metadata": {},
   "outputs": [
    {
     "data": {
      "text/plain": [
       "<sqlite3.Cursor at 0x1889a751740>"
      ]
     },
     "execution_count": 26,
     "metadata": {},
     "output_type": "execute_result"
    }
   ],
   "source": [
    "user_management_data = [\n",
    "    (1, 2),  \n",
    "    (2, 5),  \n",
    "    (3, 8),  \n",
    "    (4, 12), \n",
    "    (5, 15) \n",
    "]\n",
    "\n",
    "crsr.executemany(\"INSERT INTO User_Mangement (operation_id, user_id) VALUES (?, ?)\", user_management_data)\n"
   ]
  },
  {
   "cell_type": "code",
   "execution_count": 27,
   "metadata": {},
   "outputs": [
    {
     "data": {
      "text/plain": [
       "<sqlite3.Cursor at 0x1889a751740>"
      ]
     },
     "execution_count": 27,
     "metadata": {},
     "output_type": "execute_result"
    }
   ],
   "source": [
    "book_management_data = [\n",
    "    (1, 1),  \n",
    "    (2, 3),  \n",
    "    (3, 5),  \n",
    "    (4, 7),  \n",
    "    (5, 9)   \n",
    "]\n",
    "\n",
    "crsr.executemany(\"INSERT INTO Book_Mangement (operation_id, book_id) VALUES (?, ?)\", book_management_data)\n"
   ]
  },
  {
   "cell_type": "code",
   "execution_count": 28,
   "metadata": {},
   "outputs": [],
   "source": [
    "fake_wishlist = [\n",
    "    (1, 3),\n",
    "    (2, 7),\n",
    "    (3, 10),\n",
    "    (4, 15),\n",
    "    (5, 1),\n",
    "    (6, 5),\n",
    "    (7, 12),\n",
    "    (8, 18),\n",
    "    (9, 20),\n",
    "    (10, 14)\n",
    "]"
   ]
  },
  {
   "cell_type": "code",
   "execution_count": 29,
   "metadata": {},
   "outputs": [
    {
     "data": {
      "text/plain": [
       "<sqlite3.Cursor at 0x1889a751740>"
      ]
     },
     "execution_count": 29,
     "metadata": {},
     "output_type": "execute_result"
    }
   ],
   "source": [
    "crsr.executemany(\"\"\"\n",
    "    INSERT INTO wishlist (wish_ID, Book_ID)\n",
    "    VALUES (?, ?)\n",
    "\"\"\", fake_wishlist)"
   ]
  },
  {
   "cell_type": "code",
   "execution_count": 30,
   "metadata": {},
   "outputs": [],
   "source": [
    "# Commit the changes using the connection object \n",
    "db.commit()"
   ]
  }
 ],
 "metadata": {
  "kernelspec": {
   "display_name": "Python 3",
   "language": "python",
   "name": "python3"
  },
  "language_info": {
   "codemirror_mode": {
    "name": "ipython",
    "version": 3
   },
   "file_extension": ".py",
   "mimetype": "text/x-python",
   "name": "python",
   "nbconvert_exporter": "python",
   "pygments_lexer": "ipython3",
   "version": "3.12.8"
  }
 },
 "nbformat": 4,
 "nbformat_minor": 2
}
